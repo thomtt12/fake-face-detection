{
 "cells": [
  {
   "cell_type": "code",
   "execution_count": 8,
   "metadata": {},
   "outputs": [],
   "source": [
    "from skimage import feature\n",
    "import numpy as np\n",
    "import cv2\n",
    "import os\n",
    "from sklearn.svm import LinearSVC\n",
    "from tqdm import tqdm\n",
    "from sklearn.model_selection import train_test_split\n",
    "import random\n",
    "import pickle"
   ]
  },
  {
   "cell_type": "code",
   "execution_count": 19,
   "metadata": {},
   "outputs": [],
   "source": [
    "class LocalBinaryPatterns:\n",
    "    def __init__(self, numPoints, radius):\n",
    "        self.numPoints = numPoints\n",
    "        self.radius = radius\n",
    "\n",
    "    def describe(self, image, eps=1e-7):\n",
    "        lbp = feature.local_binary_pattern(image, self.numPoints, self.radius, method=\"uniform\")\n",
    "        (hist, _) = np.histogram(lbp.ravel(), bins=np.arange(0, self.numPoints + 3), range=(0, self.numPoints + 2))\n",
    "        # print(hist, len(hist), sum(hist), lbp.shape[0]*lbp.shape[1])\n",
    "        hist = hist.astype(\"float\")\n",
    "        hist /= (hist.sum() + eps) # values range from 0 to 1\n",
    "        return hist"
   ]
  },
  {
   "cell_type": "code",
   "execution_count": 20,
   "metadata": {},
   "outputs": [
    {
     "name": "stdout",
     "output_type": "stream",
     "text": [
      "<__main__.LocalBinaryPatterns object at 0x000002CD7C0FB1C0>\n"
     ]
    }
   ],
   "source": [
    "images = []\n",
    "for folder in ['fake', 'real']:\n",
    "    for image in os.listdir(folder):\n",
    "        images.append(os.path.join(folder, image))\n",
    "\n",
    "train_images, val_images = train_test_split(images, test_size=0.2, random_state=42)\n",
    "\n",
    "random.shuffle(train_images)\n",
    "random.shuffle(val_images)\n",
    "\n",
    "# counting classes\n",
    "# from collections import Counter\n",
    "# train_labels = [image.split('\\\\')[0] for image in train_images]\n",
    "# val_labels = [image.split('\\\\')[0] for image in val_images]\n",
    "# print(Counter(train_labels))\n",
    "# print(Counter(val_labels))\n",
    "\n",
    "desc_24_8 = LocalBinaryPatterns(24, 8)\n",
    "desc_8_2 = LocalBinaryPatterns(8, 2)\n",
    "print(desc_24_8)\n",
    "\n"
   ]
  },
  {
   "cell_type": "code",
   "execution_count": 21,
   "metadata": {},
   "outputs": [
    {
     "name": "stderr",
     "output_type": "stream",
     "text": [
      "100%|██████████████████████████████████████████████████████████████████████████████| 3455/3455 [02:48<00:00, 20.52it/s]\n",
      "100%|████████████████████████████████████████████████████████████████████████████████| 864/864 [00:40<00:00, 21.11it/s]\n"
     ]
    }
   ],
   "source": [
    "# pre-processing and then saving it. no need to generate again\n",
    "data = []\n",
    "labels = []\n",
    "for image_path in tqdm(train_images):\n",
    "    image = cv2.imread(image_path)\n",
    "    gray = cv2.cvtColor(image, cv2.COLOR_BGR2GRAY)\n",
    "    hist_24_8 = desc_24_8.describe(gray)\n",
    "    hist_8_2 = desc_8_2.describe(gray)\n",
    "    #print(hist_24_8)\n",
    "    #print(hist_24_8.shape, hist_8_2.shape)\n",
    "    hist = np.concatenate((hist_24_8, hist_8_2), axis =0)\n",
    "    #print(hist.shape)\n",
    "\n",
    "    labels.append(image_path.split('\\\\')[0])\n",
    "    data.append(hist)\n",
    "\n",
    "with open(\"X_train_24,8.txt\", \"wb\") as fp:\n",
    "    pickle.dump(data, fp)\n",
    "\n",
    "with open(\"Y_train_24,8.txt\", \"wb\") as fp:\n",
    "    pickle.dump(labels, fp)\n",
    "\n",
    "data = []\n",
    "labels = []\n",
    "for image_path in tqdm(val_images):\n",
    "    image = cv2.imread(image_path)\n",
    "    gray = cv2.cvtColor(image, cv2.COLOR_BGR2GRAY)\n",
    "    hist_24_8 = desc_24_8.describe(gray)\n",
    "    hist_8_2 = desc_8_2.describe(gray)\n",
    "    hist = np.concatenate((hist_24_8, hist_8_2), axis =0)\n",
    "    #hist = desc.describe(gray)\n",
    "\n",
    "    labels.append(image_path.split('\\\\')[0])\n",
    "    data.append(hist)\n",
    "\n",
    "with open(\"X_test_24,9.txt\", \"wb\") as fp:\n",
    "    pickle.dump(data, fp)\n",
    "\n",
    "with open(\"Y_test_24,8.txt\", \"wb\") as fp:\n",
    "    pickle.dump(labels, fp)\n",
    "\n"
   ]
  },
  {
   "cell_type": "code",
   "execution_count": 22,
   "metadata": {},
   "outputs": [
    {
     "name": "stdout",
     "output_type": "stream",
     "text": [
      "Training\n",
      "[LibLinear][[-24.00773064  -7.34606109  10.93151293   5.83681635   4.22636129\n",
      "    4.07901247  -3.90070668 -18.62161891 -32.79584195 -40.96164582\n",
      "  -23.98390199   6.80349955  -3.41834494  37.2247956   60.66548792\n",
      "   19.12590022   8.03534513   4.48271138   8.42317568  -2.33473009\n",
      "  -15.94707336 -42.1043495  -22.91749441  22.11950954  20.7283618\n",
      "   18.32209793  -0.23920615  -8.14706739  17.58328141   6.22604474\n",
      "   15.84374534 -22.31147445 -36.56967638  10.97900247  12.83076659\n",
      "   -3.53032776]]\n",
      "[-7.3349116]\n",
      "loaded\n"
     ]
    }
   ],
   "source": [
    "# training from saved X and Y\n",
    "with open(\"X_train_24,8.txt\", \"rb\") as fp:   # Unpickling\n",
    "    X_train = pickle.load(fp)\n",
    "\n",
    "with open(\"Y_train_24,8.txt\", \"rb\") as fp:   # Unpickling\n",
    "    Y_train = pickle.load(fp)\n",
    "\n",
    "model = LinearSVC(C=100.0, random_state=42, max_iter=1000000, verbose=1)\n",
    "print(\"Training\")\n",
    "model.fit(X_train, Y_train)\n",
    "\n",
    "print(model.coef_)\n",
    "print(model.intercept_)\n",
    "\n",
    "filename = 'model_LBP_SVM.sav'\n",
    "pickle.dump(model, open(filename, 'wb'))\n",
    "del model\n",
    "\n",
    "# loading model\n",
    "model = pickle.load(open(filename, 'rb'))\n",
    "print('loaded')\n"
   ]
  }
 ],
 "metadata": {
  "kernelspec": {
   "display_name": "Python 3",
   "language": "python",
   "name": "python3"
  },
  "language_info": {
   "codemirror_mode": {
    "name": "ipython",
    "version": 3
   },
   "file_extension": ".py",
   "mimetype": "text/x-python",
   "name": "python",
   "nbconvert_exporter": "python",
   "pygments_lexer": "ipython3",
   "version": "3.8.3"
  }
 },
 "nbformat": 4,
 "nbformat_minor": 4
}
