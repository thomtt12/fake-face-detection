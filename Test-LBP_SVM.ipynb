{
 "cells": [
  {
   "cell_type": "code",
   "execution_count": 3,
   "metadata": {},
   "outputs": [],
   "source": [
    "from skimage import feature\n",
    "import numpy as np\n",
    "import cv2\n",
    "import os\n",
    "from tqdm import tqdm\n",
    "import matplotlib.pyplot as plt\n",
    "import pickle"
   ]
  },
  {
   "cell_type": "code",
   "execution_count": 4,
   "metadata": {},
   "outputs": [],
   "source": [
    "image = cv2.imread('fake/0001_00_00_01_0.jpg')\n",
    "gray = cv2.cvtColor(image, cv2.COLOR_BGR2GRAY)"
   ]
  },
  {
   "cell_type": "code",
   "execution_count": 7,
   "metadata": {},
   "outputs": [],
   "source": [
    "NEIGHBORS_1 = 24\n",
    "RADIUS_1 = 8\n",
    "lbp_1 = feature.local_binary_pattern(gray, NEIGHBORS_1, RADIUS_1, method=\"uniform\")\n",
    "NEIGHBORS_2 = 8\n",
    "RADIUS_2 = 2\n",
    "lbp_2 = feature.local_binary_pattern(gray, NEIGHBORS_2, RADIUS_2, method=\"uniform\")"
   ]
  },
  {
   "cell_type": "code",
   "execution_count": 8,
   "metadata": {},
   "outputs": [
    {
     "name": "stdout",
     "output_type": "stream",
     "text": [
      "(26,)\n",
      "(10,)\n",
      "(36,)\n"
     ]
    }
   ],
   "source": [
    "(hist1, _) = np.histogram(lbp_1.ravel(), bins=np.arange(0, NEIGHBORS_1 + 3), range=(0, NEIGHBORS_1 + 2))\n",
    "print(hist1.shape)\n",
    "(hist2, _) = np.histogram(lbp_2.ravel(), bins=np.arange(0, NEIGHBORS_2 + 3), range=(0, NEIGHBORS_2 + 2))\n",
    "print(hist2.shape)\n",
    "hist = np.concatenate((hist1, hist2), axis =0)\n",
    "hist = hist.astype(\"float\")\n",
    "hist /= (hist.sum() + 1e-7)\n",
    "print(hist.shape)\n"
   ]
  },
  {
   "cell_type": "code",
   "execution_count": null,
   "metadata": {},
   "outputs": [],
   "source": [
    "# coef = np.array([-4.60885692e+01, -1.96856605e+01,  4.75445486e+01,  6.77233907e+00,\n",
    "# \t\t   2.11002549e+00,  2.77746066e+01, -2.63103585e+01,  1.44045578e+01,\n",
    "# \t\t   1.76653189e-01,  4.24613658e+01, -5.65977423e+01,  1.34514926e+01,\n",
    "# \t\t  -7.12849353e+00, -5.55027897e-02, -1.46882564e+01,  5.38751501e+01,\n",
    "# \t\t  -1.06494060e+01, -8.59358873e+00,  3.13511400e+01, -2.69635460e+01,\n",
    "# \t\t  -1.44978052e+01, -4.88137345e-01, -3.46730967e+01,  2.39758837e+01,\n",
    "# \t\t  -8.24209248e-01,  2.77339786e+00])\n",
    "# print(coef.shape)\n",
    "# intercept = np.array([-0.57321123])\n",
    "# \"\"\"\n",
    "# matrix multiplication - hist has shape of 1x26, coef.T transposes coef, convrting it from 1x26 to 26x1\n",
    "# matrix multiplication produces a 1x1 array which is then added with intercept\n",
    "# any score below 0 is fake, above 0 is real, threshold can be changed\n",
    "# \"\"\"\n",
    "# print(hist @ coef.T + intercept)"
   ]
  },
  {
   "cell_type": "code",
   "execution_count": 9,
   "metadata": {},
   "outputs": [
    {
     "name": "stdout",
     "output_type": "stream",
     "text": [
      "loaded\n"
     ]
    }
   ],
   "source": [
    "\n",
    "filename = 'model_LBP_SVM.sav'\n",
    "model = pickle.load(open(filename, 'rb'))\n",
    "print('loaded')"
   ]
  },
  {
   "cell_type": "code",
   "execution_count": 10,
   "metadata": {},
   "outputs": [
    {
     "name": "stdout",
     "output_type": "stream",
     "text": [
      "['fake']\n",
      "[[0.98911553 0.01088447]]\n"
     ]
    }
   ],
   "source": [
    "\n",
    "print(model.predict([hist]))\n",
    "print(model._predict_proba_lr([hist]))\n"
   ]
  }
 ],
 "metadata": {
  "kernelspec": {
   "display_name": "Python 3",
   "language": "python",
   "name": "python3"
  },
  "language_info": {
   "codemirror_mode": {
    "name": "ipython",
    "version": 3
   },
   "file_extension": ".py",
   "mimetype": "text/x-python",
   "name": "python",
   "nbconvert_exporter": "python",
   "pygments_lexer": "ipython3",
   "version": "3.8.3"
  }
 },
 "nbformat": 4,
 "nbformat_minor": 4
}
